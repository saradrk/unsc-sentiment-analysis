{
 "cells": [
  {
   "cell_type": "markdown",
   "source": [
    "# Sentiment Analysis and Visualization\n",
    "Note: The sentiment annotation program has to be run first"
   ],
   "metadata": {}
  },
  {
   "cell_type": "code",
   "execution_count": null,
   "source": [
    "import csv\n",
    "import pandas as pd\n",
    "import seaborn as sns\n",
    "from unsc_sentiment.corpus_utils import get_debates_by_theme\n",
    "from config import META_PATH, SPEAKER_PATH, SENTENCE_ANNOTATIONS, SPEECH_ANNOTATIONS"
   ],
   "outputs": [],
   "metadata": {}
  },
  {
   "cell_type": "markdown",
   "source": [
    "## Analyse speeches with specific debate theme"
   ],
   "metadata": {}
  },
  {
   "cell_type": "markdown",
   "source": [
    "### Extract debate ids\n",
    "The topic can be adjusted.\\\n",
    "Note: A theme might have multiple spellings/wordings, so synonyms are used as function input."
   ],
   "metadata": {}
  },
  {
   "cell_type": "code",
   "execution_count": null,
   "source": [
    "def get_debates_by_topic(topic, unsc_meta_path):\n",
    "    \"\"\"Get UNSC debate ids concerning the specified debate theme and return ids.\n",
    "\n",
    "    Args\n",
    "    ----\n",
    "    theme (str): String that should occur in the topic of interest.\n",
    "    unsc_meta_path (str): Path to tsv file containing UNSC meta data.\n",
    "\n",
    "    Return\n",
    "    ------\n",
    "    list of strings: List containing the debate ids.\n",
    "    \"\"\"\n",
    "    debates = []\n",
    "    topic = topic.lower()\n",
    "    with open(unsc_meta_path, 'r', encoding='utf-8') as meta_file:\n",
    "        meta_reader = csv.reader(meta_file, delimiter='\\t')\n",
    "        for row in meta_reader:\n",
    "            speech_id = row[0]\n",
    "            if topic in row[3].lower():\n",
    "                debates.append(speech_id)\n",
    "    meta_file.close()\n",
    "    return debates"
   ],
   "outputs": [],
   "metadata": {}
  },
  {
   "cell_type": "markdown",
   "source": [
    "Uncomment and run this if you have the exact topic name(s):"
   ],
   "metadata": {}
  },
  {
   "cell_type": "code",
   "execution_count": null,
   "source": [
    "# theme_synonyms = [\"Women and peace and security\", \"Women, peace, and security\"]\n",
    "# debate_ids = get_debates_by_theme(theme_synonyms, META_PATH)\n",
    "# print(len(debate_ids))"
   ],
   "outputs": [],
   "metadata": {}
  },
  {
   "cell_type": "markdown",
   "source": [
    "Uncomment and run this if you want to extract topics containing a certain string:"
   ],
   "metadata": {}
  },
  {
   "cell_type": "code",
   "execution_count": null,
   "source": [
    "# topic = \"Yugoslavia\"\n",
    "# topic_debate_ids = get_debates_by_topic(topic, META_PATH)\n",
    "# print(len(debate_ids))"
   ],
   "outputs": [],
   "metadata": {}
  },
  {
   "cell_type": "markdown",
   "source": [
    "### Get sentiment of the debate speeches and save as csv"
   ],
   "metadata": {}
  },
  {
   "cell_type": "code",
   "execution_count": null,
   "source": [
    "# Paths to the output sentiment csvs\n",
    "topic_sentiment_per_sentence_csv = \"data_v3/beispielanalyse/unsc_wps_sentiment_per_sentence.csv\"\n",
    "topic_sentiment_per_speech_csv = \"data_v3/beispielanalyse/unsc_wps_sentiment_per_speech.csv\""
   ],
   "outputs": [],
   "metadata": {}
  },
  {
   "cell_type": "code",
   "execution_count": null,
   "source": [
    "# Function for checking if a speech is part of a WPS debate\n",
    "def is_topic(speech_id, topic_ids):\n",
    "    for sid in topic_ids:\n",
    "        if sid in speech_id:\n",
    "            return True\n",
    "    return False"
   ],
   "outputs": [],
   "metadata": {}
  },
  {
   "cell_type": "markdown",
   "source": [
    "#### Create the sentence level output csv"
   ],
   "metadata": {}
  },
  {
   "cell_type": "code",
   "execution_count": null,
   "source": [
    "topic_sentiment_ps_header = [\"speech_id\", \"paragraphIndex\", \"paragraphSentenceIndex\", \"totalSentenceIndex\", \"sentimentScore\"]\n",
    "with open(topic_sentiment_per_sentence_csv, \"w\", encoding=\"utf-8\") as topic_sentiment_ps_csv:\n",
    "    topic_writer = csv.writer(topic_sentiment_ps_csv)\n",
    "    topic_writer.writerow(topic_sentiment_ps_header)\n",
    "    # Iterate the annotated UNSC speeches\n",
    "    # If a speech belongs to the topic debates copy entry to output file\n",
    "    with open(SENTENCE_ANNOTATIONS, \"r\", encoding=\"utf-8\") as unsc_sentiment_csv:\n",
    "        unsc_reader = csv.reader(unsc_sentiment_csv, delimiter=\"\\t\")\n",
    "        # skip header\n",
    "        next(unsc_reader, None)\n",
    "        for entry in unsc_reader:\n",
    "            if is_topic(entry[0], topic_debate_ids):\n",
    "                speech_id = entry[0].split(\"/\")[-1][:-4]\n",
    "                p_index = entry[1]\n",
    "                ps_index = entry[2]\n",
    "                ts_index = entry[2]\n",
    "                score = entry[5]\n",
    "                topic_writer.writerow([speech_id, p_index, ps_index, ts_index, score])\n",
    "        unsc_sentiment_csv.close()\n",
    "    topic_sentiment_ps_csv.close()"
   ],
   "outputs": [],
   "metadata": {}
  },
  {
   "cell_type": "markdown",
   "source": [
    "#### Create the speech level output csv"
   ],
   "metadata": {}
  },
  {
   "cell_type": "code",
   "execution_count": null,
   "source": [
    "topic_sentiment_header = [\"speech_id\", \"speechPath\", \"sentimentScore\", \"speech_annotation_path\"]\n",
    "with open(topic_sentiment_per_speech_csv, \"w\", encoding=\"utf-8\") as topic_sentiment_csv:\n",
    "    topic_writer = csv.writer(topic_sentiment_csv)\n",
    "    topic_writer.writerow(topic_sentiment_header)\n",
    "    # Iterate the annotated UNSC speeches\n",
    "    # If a speech belongs to the topic debates copy entry to output file\n",
    "    with open(SPEECH_ANNOTATIONS, \"r\", encoding=\"utf-8\") as unsc_sentiment_csv:\n",
    "        unsc_reader = csv.reader(unsc_sentiment_csv, delimiter=\"\\t\")\n",
    "        # skip header\n",
    "        next(unsc_reader, None)\n",
    "        for entry in unsc_reader:\n",
    "            if is_topic(entry[0], topic_debate_ids):\n",
    "                speech_id = entry[0]\n",
    "                speech_path = entry[1]\n",
    "                score = entry[2]\n",
    "                annotation_path = entry[3]\n",
    "                topic_writer.writerow([speech_id, speech_path, score, annotation_path])\n",
    "        unsc_sentiment_csv.close()\n",
    "    topic_sentiment_csv.close()"
   ],
   "outputs": [],
   "metadata": {}
  },
  {
   "cell_type": "markdown",
   "source": [
    "### Get meta data of the extracted speeches"
   ],
   "metadata": {}
  },
  {
   "cell_type": "code",
   "execution_count": null,
   "source": [
    "# Path to the output meta data csv\n",
    "topic_meta_csv = \"data_v3/beispielanalyse/topic_meta_for_analysis.csv\""
   ],
   "outputs": [],
   "metadata": {}
  },
  {
   "cell_type": "code",
   "execution_count": null,
   "source": [
    "# Create the output csv \n",
    "topic_meta_header = [\"speech_id\", \"year\", \"month\", \"day\", \"country\"]\n",
    "with open(topic_meta_csv, \"w\", encoding=\"utf-8\") as topic_metacsv:\n",
    "    topic_writer = csv.writer(topic_metacsv)\n",
    "    topic_writer.writerow(topic_meta_header)\n",
    "    # Iterate the speaker meta data of the UNSC speeches\n",
    "    # If a speech belongs to the topic debates copy entry to output file\n",
    "    with open(SPEAKER_PATH, \"r\", encoding=\"utf-8\") as speakerfile:\n",
    "        speaker_reader = csv.reader(speakerfile, delimiter=\"\\t\")\n",
    "        for entry in speaker_reader:\n",
    "            if is_topic(entry[12], topic_debate_ids):\n",
    "                speech_id = entry[12][:-4]\n",
    "                year = entry[9]\n",
    "                month = entry[10]\n",
    "                day = entry[11]\n",
    "                country = entry[1]\n",
    "                topic_writer.writerow([speech_id, year, month, day, country])\n",
    "        speakerfile.close()\n",
    "    topic_metacsv.close()"
   ],
   "outputs": [],
   "metadata": {}
  },
  {
   "cell_type": "markdown",
   "source": [
    "### Merge meta and sentiment data"
   ],
   "metadata": {}
  },
  {
   "cell_type": "markdown",
   "source": [
    "#### Sentence level data"
   ],
   "metadata": {}
  },
  {
   "cell_type": "code",
   "execution_count": null,
   "source": [
    "topic_only_sentiment_ps_df = pd.read_csv(topic_sentiment_per_sentence_csv)\n",
    "topic_meta_df = pd.read_csv(topic_meta_csv)\n",
    "topic_sentiment_ps_df = pd.merge(topic_only_sentiment_ps_df, topic_meta_df, on=\"speech_id\")"
   ],
   "outputs": [],
   "metadata": {}
  },
  {
   "cell_type": "markdown",
   "source": [
    "#### Speech level data"
   ],
   "metadata": {}
  },
  {
   "cell_type": "code",
   "execution_count": null,
   "source": [
    "topic_only_sentiment_df = pd.read_csv(topic_sentiment_per_speech_csv)\n",
    "topic_meta_df = pd.read_csv(topic_meta_csv)\n",
    "topic_sentiment_df = pd.merge(topic_only_sentiment_df, topic_meta_df, on=\"speech_id\")"
   ],
   "outputs": [],
   "metadata": {}
  },
  {
   "cell_type": "markdown",
   "source": [
    "### Visualize sentence level topic specific sentiment over the years"
   ],
   "metadata": {}
  },
  {
   "cell_type": "code",
   "execution_count": null,
   "source": [
    "sns.set_context('paper')"
   ],
   "outputs": [],
   "metadata": {}
  },
  {
   "cell_type": "code",
   "execution_count": null,
   "source": [
    "topic_total_fig = sns.relplot(x=\"year\", y=\"sentimentScore\", kind=\"line\", data=topic_sentiment_ps_df, height=4, aspect=1.5)\n",
    "topic_total_fig.fig.suptitle(\"Sentence-level sentiment of speeches concerning Yugoslavia\", x=0.5, y=1)\n",
    "#topic_total_fig.savefig(\"data_v3/beispielanalyse/paper_yugoslavia_all_countries_sentence_sentiment.png\") "
   ],
   "outputs": [],
   "metadata": {
    "scrolled": true
   }
  },
  {
   "cell_type": "markdown",
   "source": [
    "### Visualize speech level topic specific sentiment over the years\n"
   ],
   "metadata": {}
  },
  {
   "cell_type": "code",
   "execution_count": null,
   "source": [
    "topic_total_speech_fig = sns.relplot(x=\"year\", y=\"sentimentScore\", kind=\"line\", data=topic_sentiment_df, height=4, aspect=1.5)\n",
    "topic_total_speech_fig.fig.suptitle(\"Speech-level sentiment of speeches concerning Yugoslavia\", x=0.5, y=1)\n",
    "#topic_total_speech_fig.savefig(\"data_v3/beispielanalyse/paper_yugoslavia_all_countries_speech_sentiment.png\") "
   ],
   "outputs": [],
   "metadata": {
    "scrolled": true
   }
  },
  {
   "cell_type": "markdown",
   "source": [
    "## Analyse P5 speeches"
   ],
   "metadata": {}
  },
  {
   "cell_type": "markdown",
   "source": [
    "### Get meta data of all speeches"
   ],
   "metadata": {}
  },
  {
   "cell_type": "code",
   "execution_count": null,
   "source": [
    "# Path to the output meta data csv\n",
    "meta_csv = \"data/unsc_meta_for_analysis.csv\""
   ],
   "outputs": [],
   "metadata": {}
  },
  {
   "cell_type": "code",
   "execution_count": null,
   "source": [
    "# Create the output csv \n",
    "meta_header = [\"speech_id\", \"year\", \"month\", \"day\", \"country\"]\n",
    "with open(meta_csv, \"w\", encoding=\"utf-8\") as metafile:\n",
    "    meta_writer = csv.writer(metafile)\n",
    "    meta_writer.writerow(meta_header)\n",
    "    with open(SPEAKER_PATH, \"r\", encoding=\"utf-8\") as speakerfile:\n",
    "        speaker_reader = csv.reader(speakerfile, delimiter=\"\\t\")\n",
    "        next(speaker_reader, None)\n",
    "        for entry in speaker_reader:\n",
    "            speech_id = entry[12][:-4]\n",
    "            year = entry[9]\n",
    "            month = entry[10]\n",
    "            day = entry[11]\n",
    "            country = entry[1]\n",
    "            meta_writer.writerow([speech_id, year, month, day, country])\n",
    "        speakerfile.close()\n",
    "    metafile.close()"
   ],
   "outputs": [],
   "metadata": {}
  },
  {
   "cell_type": "markdown",
   "source": [
    "### Merge meta and sentiment data\n"
   ],
   "metadata": {}
  },
  {
   "cell_type": "code",
   "execution_count": null,
   "source": [
    "meta_df = pd.read_csv(meta_csv)\n",
    "only_sentiment_df = pd.read_csv(SPEECH_ANNOTATIONS, sep=\"\\t\")\n",
    "sentiment_df = pd.merge(only_sentiment_df, meta_df, on=\"speech_id\")"
   ],
   "outputs": [],
   "metadata": {}
  },
  {
   "cell_type": "code",
   "execution_count": null,
   "source": [
    "sentiment_df.shape # Should be (82165, 8) for all speeches"
   ],
   "outputs": [],
   "metadata": {}
  },
  {
   "cell_type": "markdown",
   "source": [
    "### Analyse sentiment of P5 speeches\n"
   ],
   "metadata": {}
  },
  {
   "cell_type": "code",
   "execution_count": null,
   "source": [
    "# Names of the 5 permanent members \n",
    "p5 = [\"China\", \"France\", \"Russian Federation\", \"United Kingdom Of Great Britain And Northern Ireland\", \"United States Of America\"]\n",
    "p5_df = sentiment_df[sentiment_df[\"country\"].isin(p5)]"
   ],
   "outputs": [],
   "metadata": {}
  },
  {
   "cell_type": "code",
   "execution_count": null,
   "source": [
    "sns.set_context('paper', font_scale =2, rc={\"grid.linewidth\": 1, \"legend.fontsize\": 15})"
   ],
   "outputs": [],
   "metadata": {}
  },
  {
   "cell_type": "code",
   "execution_count": null,
   "source": [
    "sns_plot = sns.relplot(x=\"year\", y=\"sentimentScore\", hue=\"country\", kind=\"line\",ci=None, style=\"country\", data=p5_df, height=8, aspect=1.5, linewidth=2, legend=\"brief\")\n",
    "sns_plot.fig.suptitle(\"Speech-level sentiment of all P5 speeches\", x=0.5, y=1)\n",
    "#sns_plot.savefig(\"data_v3/beispielanalyse/poster_p5_speech_sentiment.png\") "
   ],
   "outputs": [],
   "metadata": {}
  },
  {
   "cell_type": "code",
   "execution_count": null,
   "source": [],
   "outputs": [],
   "metadata": {}
  }
 ],
 "metadata": {
  "kernelspec": {
   "display_name": "Python 3 (ipykernel)",
   "language": "python",
   "name": "python3"
  },
  "language_info": {
   "codemirror_mode": {
    "name": "ipython",
    "version": 3
   },
   "file_extension": ".py",
   "mimetype": "text/x-python",
   "name": "python",
   "nbconvert_exporter": "python",
   "pygments_lexer": "ipython3",
   "version": "3.8.2"
  }
 },
 "nbformat": 4,
 "nbformat_minor": 5
}